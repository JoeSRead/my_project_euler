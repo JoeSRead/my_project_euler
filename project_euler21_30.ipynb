{
 "cells": [
  {
   "cell_type": "markdown",
   "metadata": {},
   "source": [
    "### 21 Amicable numbers\n",
    "\n",
    "Let d(n) be defined as the sum of proper divisors of n (numbers less than n which divide evenly into n).\n",
    "If d(a) = b and d(b) = a, where a ≠ b, then a and b are an amicable pair and each of a and b are called amicable numbers.\n",
    "\n",
    "For example, the proper divisors of 220 are 1, 2, 4, 5, 10, 11, 20, 22, 44, 55 and 110; therefore d(220) = 284. The proper divisors of 284 are 1, 2, 4, 71 and 142; so d(284) = 220.\n",
    "\n",
    "Evaluate the sum of all the amicable numbers under 10000."
   ]
  },
  {
   "cell_type": "code",
   "execution_count": 1,
   "metadata": {},
   "outputs": [],
   "source": [
    "import numpy as np\n",
    "import time"
   ]
  },
  {
   "cell_type": "code",
   "execution_count": 2,
   "metadata": {},
   "outputs": [],
   "source": [
    "def divisors_lst(n):\n",
    "    div_lst = []\n",
    "    for i in range(1, int((np.sqrt(n)))+1):\n",
    "        if n % i == 0:\n",
    "            div_lst.append(i)\n",
    "    for j in div_lst[1:]:\n",
    "        div_lst.append(int(n/j))\n",
    "    return list(set(div_lst))"
   ]
  },
  {
   "cell_type": "code",
   "execution_count": 3,
   "metadata": {},
   "outputs": [
    {
     "data": {
      "text/plain": [
       "220"
      ]
     },
     "execution_count": 3,
     "metadata": {},
     "output_type": "execute_result"
    }
   ],
   "source": [
    "sum(divisors_lst(sum(divisors_lst(220))))"
   ]
  },
  {
   "cell_type": "code",
   "execution_count": 4,
   "metadata": {},
   "outputs": [
    {
     "data": {
      "text/plain": [
       "31626"
      ]
     },
     "execution_count": 4,
     "metadata": {},
     "output_type": "execute_result"
    }
   ],
   "source": [
    "am_lst =[]\n",
    "for i in range(1,10000):\n",
    "    a = sum(divisors_lst(i))\n",
    "    b = sum(divisors_lst(a))\n",
    "    if b == i and a!=b:\n",
    "        am_lst.append([i, a])\n",
    "\n",
    "sum([l for i in am_lst[::2] for l in i])"
   ]
  },
  {
   "cell_type": "markdown",
   "metadata": {},
   "source": [
    "### 22 Names scores\n",
    "\n",
    "Using names.txt (right click and 'Save Link/Target As...'), a 46K text file containing over five-thousand first names, begin by sorting it into alphabetical order. Then working out the alphabetical value for each name, multiply this value by its alphabetical position in the list to obtain a name score.\n",
    "\n",
    "For example, when the list is sorted into alphabetical order, COLIN, which is worth 3 + 15 + 12 + 9 + 14 = 53, is the 938th name in the list. So, COLIN would obtain a score of 938 × 53 = 49714.\n",
    "\n",
    "What is the total of all the name scores in the file?"
   ]
  },
  {
   "cell_type": "code",
   "execution_count": 5,
   "metadata": {},
   "outputs": [],
   "source": [
    "with open('names.txt', 'r') as file:\n",
    "    names = [[i for i in name.split(',')] for name in file]"
   ]
  },
  {
   "cell_type": "code",
   "execution_count": 6,
   "metadata": {},
   "outputs": [],
   "source": [
    "names = [name.replace('\"', '') for name in names[0]]"
   ]
  },
  {
   "cell_type": "code",
   "execution_count": 7,
   "metadata": {},
   "outputs": [],
   "source": [
    "names.sort()"
   ]
  },
  {
   "cell_type": "code",
   "execution_count": 8,
   "metadata": {},
   "outputs": [
    {
     "data": {
      "text/plain": [
       "['AARON',\n",
       " 'ABBEY',\n",
       " 'ABBIE',\n",
       " 'ABBY',\n",
       " 'ABDUL',\n",
       " 'ABE',\n",
       " 'ABEL',\n",
       " 'ABIGAIL',\n",
       " 'ABRAHAM',\n",
       " 'ABRAM']"
      ]
     },
     "execution_count": 8,
     "metadata": {},
     "output_type": "execute_result"
    }
   ],
   "source": [
    "names[:10]"
   ]
  },
  {
   "cell_type": "code",
   "execution_count": 9,
   "metadata": {},
   "outputs": [
    {
     "data": {
      "text/plain": [
       "1"
      ]
     },
     "execution_count": 9,
     "metadata": {},
     "output_type": "execute_result"
    }
   ],
   "source": [
    "ord('a') -96"
   ]
  },
  {
   "cell_type": "code",
   "execution_count": 10,
   "metadata": {},
   "outputs": [
    {
     "data": {
      "text/plain": [
       "53"
      ]
     },
     "execution_count": 10,
     "metadata": {},
     "output_type": "execute_result"
    }
   ],
   "source": [
    "sm =0\n",
    "for let in 'COLIN'.lower():\n",
    "    sm += ord(let)-96\n",
    "sm"
   ]
  },
  {
   "cell_type": "code",
   "execution_count": 11,
   "metadata": {},
   "outputs": [
    {
     "data": {
      "text/plain": [
       "[53, 49]"
      ]
     },
     "execution_count": 11,
     "metadata": {},
     "output_type": "execute_result"
    }
   ],
   "source": [
    "[sum([ord(let.lower()) -96 for let in name]) for name in ['COLIN', 'AARON']]"
   ]
  },
  {
   "cell_type": "code",
   "execution_count": 12,
   "metadata": {},
   "outputs": [
    {
     "data": {
      "text/plain": [
       "871198282"
      ]
     },
     "execution_count": 12,
     "metadata": {},
     "output_type": "execute_result"
    }
   ],
   "source": [
    "sum([sum([ord(let.lower()) -96 for let in name])*(names.index(name) +1) for name in names])"
   ]
  },
  {
   "cell_type": "markdown",
   "metadata": {},
   "source": [
    "### 23 Non-abundant sums\n",
    "\n",
    "A perfect number is a number for which the sum of its proper divisors is exactly equal to the number. For example, the sum of the proper divisors of 28 would be 1 + 2 + 4 + 7 + 14 = 28, which means that 28 is a perfect number.\n",
    "\n",
    "A number n is called deficient if the sum of its proper divisors is less than n and it is called abundant if this sum exceeds n.\n",
    "\n",
    "As 12 is the smallest abundant number, 1 + 2 + 3 + 4 + 6 = 16, the smallest number that can be written as the sum of two abundant numbers is 24. By mathematical analysis, it can be shown that all integers greater than 28123 can be written as the sum of two abundant numbers. However, this upper limit cannot be reduced any further by analysis even though it is known that the greatest number that cannot be expressed as the sum of two abundant numbers is less than this limit.\n",
    "\n",
    "Find the sum of all the positive integers which cannot be written as the sum of two abundant numbers."
   ]
  },
  {
   "cell_type": "code",
   "execution_count": 13,
   "metadata": {},
   "outputs": [
    {
     "data": {
      "text/plain": [
       "16"
      ]
     },
     "execution_count": 13,
     "metadata": {},
     "output_type": "execute_result"
    }
   ],
   "source": [
    "sum(divisors_lst(12))"
   ]
  },
  {
   "cell_type": "code",
   "execution_count": 14,
   "metadata": {},
   "outputs": [
    {
     "data": {
      "text/plain": [
       "55"
      ]
     },
     "execution_count": 14,
     "metadata": {},
     "output_type": "execute_result"
    }
   ],
   "source": [
    "sum(divisors_lst(36))"
   ]
  },
  {
   "cell_type": "code",
   "execution_count": 15,
   "metadata": {},
   "outputs": [
    {
     "name": "stdout",
     "output_type": "stream",
     "text": [
      "1\n",
      "1\n",
      "1\n",
      "3\n",
      "1\n",
      "6\n",
      "1\n",
      "7\n",
      "4\n",
      "8\n"
     ]
    }
   ],
   "source": [
    "# 1 for the primes\n",
    "\n",
    "for i in range(1,11):\n",
    "    print(sum(divisors_lst(i)))"
   ]
  },
  {
   "cell_type": "code",
   "execution_count": 16,
   "metadata": {},
   "outputs": [],
   "source": [
    "# First get a list of all abundant numbers (under 28123)\n",
    "\n",
    "abun_lst = []\n",
    "\n",
    "for i in range(1,28124):\n",
    "    if sum(divisors_lst(i)) > i:\n",
    "        abun_lst.append(i)"
   ]
  },
  {
   "cell_type": "code",
   "execution_count": 17,
   "metadata": {},
   "outputs": [
    {
     "data": {
      "text/plain": [
       "6965"
      ]
     },
     "execution_count": 17,
     "metadata": {},
     "output_type": "execute_result"
    }
   ],
   "source": [
    "len(abun_lst)"
   ]
  },
  {
   "cell_type": "code",
   "execution_count": 18,
   "metadata": {},
   "outputs": [],
   "source": [
    "# Build test algo\n",
    "\n",
    "sml = abun_lst[:100]"
   ]
  },
  {
   "cell_type": "code",
   "execution_count": 19,
   "metadata": {},
   "outputs": [],
   "source": [
    "sums_lst = []\n",
    "\n",
    "for i in range(len(sml)):\n",
    "    for j in range(len(sml)):\n",
    "        sums_lst.append(sml[i]+sml[j])\n",
    "sums_lst = list(set(sums_lst))"
   ]
  },
  {
   "cell_type": "code",
   "execution_count": 20,
   "metadata": {},
   "outputs": [
    {
     "data": {
      "text/plain": [
       "399"
      ]
     },
     "execution_count": 20,
     "metadata": {},
     "output_type": "execute_result"
    }
   ],
   "source": [
    "len(sums_lst)"
   ]
  },
  {
   "cell_type": "code",
   "execution_count": 21,
   "metadata": {},
   "outputs": [],
   "source": [
    "sums_lst = []\n",
    "\n",
    "for i in range(len(abun_lst)):\n",
    "    for j in range(len(abun_lst)):\n",
    "        sums_lst.append(abun_lst[i]+abun_lst[j])\n",
    "        \n",
    "sums_lst = list(set(sums_lst))"
   ]
  },
  {
   "cell_type": "code",
   "execution_count": 22,
   "metadata": {},
   "outputs": [
    {
     "data": {
      "text/plain": [
       "56244"
      ]
     },
     "execution_count": 22,
     "metadata": {},
     "output_type": "execute_result"
    }
   ],
   "source": [
    "max(sums_lst)"
   ]
  },
  {
   "cell_type": "code",
   "execution_count": 23,
   "metadata": {},
   "outputs": [],
   "source": [
    "dif_lst = list(set(set(list(range(1,56244))) -set(sums_lst)))"
   ]
  },
  {
   "cell_type": "code",
   "execution_count": 24,
   "metadata": {},
   "outputs": [
    {
     "data": {
      "text/plain": [
       "4179871"
      ]
     },
     "execution_count": 24,
     "metadata": {},
     "output_type": "execute_result"
    }
   ],
   "source": [
    "sum([x for x in dif_lst if x< 28123])"
   ]
  },
  {
   "cell_type": "markdown",
   "metadata": {},
   "source": [
    "Let's tidy it all up and get some optimisation going!"
   ]
  },
  {
   "cell_type": "code",
   "execution_count": 25,
   "metadata": {},
   "outputs": [
    {
     "name": "stdout",
     "output_type": "stream",
     "text": [
      "7.725582838058472 4179871\n"
     ]
    }
   ],
   "source": [
    "start = time.time()\n",
    "\n",
    "abun_lst = []\n",
    "\n",
    "for i in range(1,28124):\n",
    "    if sum(divisors_lst(i)) > i:\n",
    "        abun_lst.append(i)\n",
    "\n",
    "        \n",
    "sums_lst = []\n",
    "\n",
    "for i in range(len(abun_lst)):\n",
    "    for j in range(len(abun_lst)):\n",
    "        sm = abun_lst[i]+abun_lst[j]\n",
    "        if sm < 28123:\n",
    "            sums_lst.append(sm)\n",
    "        else:\n",
    "            break\n",
    "        \n",
    "sums_lst = list(set(sums_lst))\n",
    "\n",
    "dif_lst = list(set(set(list(range(1,max(sums_lst)))) -set(sums_lst)))\n",
    "\n",
    "ans = sum([x for x in dif_lst])\n",
    "\n",
    "end = time.time()\n",
    "\n",
    "print(end-start, ans)"
   ]
  },
  {
   "cell_type": "markdown",
   "metadata": {},
   "source": [
    "###  24 Lexicographic permutations\n",
    "\n",
    "\n",
    "A permutation is an ordered arrangement of objects. For example, 3124 is one possible permutation of the digits 1, 2, 3 and 4. If all of the permutations are listed numerically or alphabetically, we call it lexicographic order. The lexicographic permutations of 0, 1 and 2 are:\n",
    "\n",
    "012   021   102   120   201   210\n",
    "\n",
    "What is the millionth lexicographic permutation of the digits 0, 1, 2, 3, 4, 5, 6, 7, 8 and 9?"
   ]
  },
  {
   "cell_type": "code",
   "execution_count": 26,
   "metadata": {},
   "outputs": [],
   "source": [
    "from itertools import permutations"
   ]
  },
  {
   "cell_type": "code",
   "execution_count": 27,
   "metadata": {},
   "outputs": [
    {
     "data": {
      "text/plain": [
       "('2', '7', '8', '3', '9', '1', '5', '4', '6', '0')"
      ]
     },
     "execution_count": 27,
     "metadata": {},
     "output_type": "execute_result"
    }
   ],
   "source": [
    "list(permutations(\"0123456789\"))[int(1e6)-1]"
   ]
  },
  {
   "cell_type": "markdown",
   "metadata": {},
   "source": [
    "A dull way to do it but I may come back and play with this properly (See below!)"
   ]
  },
  {
   "cell_type": "code",
   "execution_count": 28,
   "metadata": {},
   "outputs": [],
   "source": [
    "def factorial(n):\n",
    "    fact = 1\n",
    "\n",
    "    for i in range(1,n+1): \n",
    "        fact *= i \n",
    "    return fact"
   ]
  },
  {
   "cell_type": "code",
   "execution_count": 29,
   "metadata": {},
   "outputs": [
    {
     "data": {
      "text/plain": [
       "2"
      ]
     },
     "execution_count": 29,
     "metadata": {},
     "output_type": "execute_result"
    }
   ],
   "source": [
    "# first 9! perms start with a 0, 2nd 9! perms start with a 1, etc..\n",
    "\n",
    "1000000//factorial(9)"
   ]
  },
  {
   "cell_type": "code",
   "execution_count": 30,
   "metadata": {},
   "outputs": [
    {
     "data": {
      "text/plain": [
       "274240"
      ]
     },
     "execution_count": 30,
     "metadata": {},
     "output_type": "execute_result"
    }
   ],
   "source": [
    "1000000 - (2*factorial(9))"
   ]
  },
  {
   "cell_type": "code",
   "execution_count": 31,
   "metadata": {},
   "outputs": [
    {
     "data": {
      "text/plain": [
       "6"
      ]
     },
     "execution_count": 31,
     "metadata": {},
     "output_type": "execute_result"
    }
   ],
   "source": [
    "# Once we have the first digit we're left with a 9 (10) digit string (2+) 013456789\n",
    "# This means the first 8! start with a 0, 2nd 8! start with a 3...\n",
    "# Going from 2*9! up to 1e6 \n",
    "\n",
    "(1000000 - 2*factorial(9))//factorial(8)"
   ]
  },
  {
   "cell_type": "code",
   "execution_count": 32,
   "metadata": {},
   "outputs": [
    {
     "data": {
      "text/plain": [
       "6"
      ]
     },
     "execution_count": 32,
     "metadata": {},
     "output_type": "execute_result"
    }
   ],
   "source": [
    "# As this is a 6 we take the 6th element of 013456789 which is 7, so we have 27........\n",
    "# Now have 01345689\n",
    "# First 7! start with a 0, 2nd 7! start with a 3...\n",
    "# going from 2*9!+6*7! up to 1e6\n",
    "\n",
    "(1000000- 6*factorial(8)- 2*factorial(9))//factorial(7)"
   ]
  },
  {
   "cell_type": "code",
   "execution_count": 33,
   "metadata": {},
   "outputs": [],
   "source": [
    "# We have 278.......\n",
    "# Now 0134569\n",
    "# Etc...\n",
    "# Let's code it!"
   ]
  },
  {
   "cell_type": "code",
   "execution_count": 34,
   "metadata": {},
   "outputs": [],
   "source": [
    "# remaining//i! gives the index of st that comes next\n",
    "# You then need to add that unto nth and remove the symbol from st\n",
    "# remaining then becomes remaining - dig*i!\n",
    "\n",
    "def nth_perm(n=1000000, st='0123456789'):\n",
    "    if factorial(len(st)) >n:\n",
    "        nth = ''\n",
    "        remaining = n-1\n",
    "        stn = list(st)\n",
    "        for i in range(len(st)-1, 0, -1):\n",
    "\n",
    "            dig = remaining//factorial(i) \n",
    "\n",
    "            nth += stn[dig]\n",
    "            stn.remove(str(stn[dig]))\n",
    "\n",
    "            remaining -= dig*factorial(i)\n",
    "        return(int(nth+stn[0]))\n",
    "    else:\n",
    "        print('n too large')"
   ]
  },
  {
   "cell_type": "code",
   "execution_count": 35,
   "metadata": {},
   "outputs": [
    {
     "data": {
      "text/plain": [
       "2783915460"
      ]
     },
     "execution_count": 35,
     "metadata": {},
     "output_type": "execute_result"
    }
   ],
   "source": [
    "# Ta, da!\n",
    "\n",
    "nth_perm()"
   ]
  },
  {
   "cell_type": "code",
   "execution_count": 36,
   "metadata": {},
   "outputs": [
    {
     "data": {
      "text/plain": [
       "312"
      ]
     },
     "execution_count": 36,
     "metadata": {},
     "output_type": "execute_result"
    }
   ],
   "source": [
    "nth_perm(n=5, st='123')"
   ]
  },
  {
   "cell_type": "code",
   "execution_count": 37,
   "metadata": {},
   "outputs": [],
   "source": [
    "# 123 132 213 231 312"
   ]
  },
  {
   "cell_type": "code",
   "execution_count": 38,
   "metadata": {},
   "outputs": [
    {
     "name": "stdout",
     "output_type": "stream",
     "text": [
      "0.00016689300537109375\n"
     ]
    }
   ],
   "source": [
    "start = time.time()\n",
    "nth_perm()\n",
    "print(time.time() - start)"
   ]
  },
  {
   "cell_type": "code",
   "execution_count": 39,
   "metadata": {},
   "outputs": [],
   "source": [
    "# A slight improvement! "
   ]
  },
  {
   "cell_type": "code",
   "execution_count": 40,
   "metadata": {},
   "outputs": [
    {
     "name": "stdout",
     "output_type": "stream",
     "text": [
      "0.7596240043640137\n"
     ]
    }
   ],
   "source": [
    "start = time.time()\n",
    "list(permutations(\"0123456789\"))[int(1e6)-1]\n",
    "print(time.time() -start)"
   ]
  },
  {
   "cell_type": "markdown",
   "metadata": {},
   "source": [
    "### 25 1000-digit Fibonacci number\n",
    "\n",
    "The 12th term, 144, is the first term to contain three digits.\n",
    "\n",
    "What is the index of the first term in the Fibonacci sequence to contain 1000 digits?"
   ]
  },
  {
   "cell_type": "code",
   "execution_count": 41,
   "metadata": {},
   "outputs": [
    {
     "name": "stdout",
     "output_type": "stream",
     "text": [
      "4782 0.03987693786621094\n"
     ]
    }
   ],
   "source": [
    "start = time.time()\n",
    "lst = [1,1,2]\n",
    "while len(str(lst[-1])) < 1000:\n",
    "    lst.append(lst[-2] +lst[-1])\n",
    "    \n",
    "tim = time.time() - start\n",
    "print(len(lst), tim)"
   ]
  },
  {
   "cell_type": "markdown",
   "metadata": {},
   "source": [
    "### 26 Reciprocal cycles\n",
    "\n",
    "A unit fraction contains 1 in the numerator. The decimal representation of the unit fractions with denominators 2 to 10 are given:\n",
    "\n",
    "1/2\t= \t0.5\n",
    "\n",
    "1/3\t= \t0.(3)\n",
    "\n",
    "1/4\t= \t0.25\n",
    "\n",
    "1/5\t= \t0.2\n",
    "\n",
    "1/6\t= \t0.1(6)\n",
    "\n",
    "1/7\t= \t0.(142857)\n",
    "\n",
    "1/8\t= \t0.125\n",
    "\n",
    "1/9\t= \t0.(1)\n",
    "\n",
    "1/10\t= \t0.1\n",
    "\n",
    "Where 0.1(6) means 0.166666..., and has a 1-digit recurring cycle. It can be seen that 1/7 has a 6-digit recurring cycle.\n",
    "\n",
    "Find the value of d < 1000 for which 1/d contains the longest recurring cycle in its decimal fraction part."
   ]
  },
  {
   "cell_type": "code",
   "execution_count": 42,
   "metadata": {},
   "outputs": [],
   "source": [
    "# Primes repeat (expect 2, 5), so we need all primes under 1000\n",
    "# Size of prime ~ with length of repition? So largest prime under 1000?\n",
    "# Let's test for primes under 30\n",
    "prime_lst_under30 = []\n",
    "\n",
    "for num in range(2,31):\n",
    "    if all(num%i!=0 for i in range(2,int(np.sqrt(num))+1)):\n",
    "        prime_lst_under30.append(num)"
   ]
  },
  {
   "cell_type": "code",
   "execution_count": 43,
   "metadata": {},
   "outputs": [
    {
     "data": {
      "text/plain": [
       "[2, 3, 5, 7, 11, 13, 17, 19, 23, 29]"
      ]
     },
     "execution_count": 43,
     "metadata": {},
     "output_type": "execute_result"
    }
   ],
   "source": [
    "prime_lst_under30"
   ]
  },
  {
   "cell_type": "code",
   "execution_count": 44,
   "metadata": {},
   "outputs": [
    {
     "data": {
      "text/plain": [
       "[0.3333333333333333,\n",
       " 0.14285714285714285,\n",
       " 0.09090909090909091,\n",
       " 0.07692307692307693,\n",
       " 0.058823529411764705,\n",
       " 0.05263157894736842,\n",
       " 0.043478260869565216,\n",
       " 0.034482758620689655]"
      ]
     },
     "execution_count": 44,
     "metadata": {},
     "output_type": "execute_result"
    }
   ],
   "source": [
    "[1/d for d in prime_lst_under30 if ((d!=2) & (d!=5))]"
   ]
  },
  {
   "cell_type": "code",
   "execution_count": 45,
   "metadata": {},
   "outputs": [],
   "source": [
    "# Primes like 11 ruin the idea"
   ]
  },
  {
   "cell_type": "code",
   "execution_count": null,
   "metadata": {},
   "outputs": [],
   "source": []
  },
  {
   "cell_type": "code",
   "execution_count": null,
   "metadata": {},
   "outputs": [],
   "source": []
  },
  {
   "cell_type": "markdown",
   "metadata": {},
   "source": [
    "### 28 Number spiral diagonals"
   ]
  },
  {
   "cell_type": "markdown",
   "metadata": {},
   "source": [
    "Starting with the number 1 and moving to the right in a clockwise direction a 5 by 5 spiral is formed as follows:\n",
    "\n",
    "21 22 23 24 25\n",
    "\n",
    "\n",
    "20  7  8  9 10\n",
    "\n",
    "\n",
    "19  6  1  2 11\n",
    "\n",
    "\n",
    "18  5  4  3 12\n",
    "\n",
    "\n",
    "17 16 15 14 13\n",
    "\n",
    "It can be verified that the sum of the numbers on the diagonals is 101.\n",
    "\n",
    "What is the sum of the numbers on the diagonals in a 1001 by 1001 spiral formed in the same way?"
   ]
  },
  {
   "cell_type": "code",
   "execution_count": 48,
   "metadata": {},
   "outputs": [],
   "source": [
    "n = 5\n",
    "diag_nums = []\n",
    "start = 1\n",
    "for i in range(1,n+1,2):\n",
    "    if i == 1:\n",
    "        diag_nums.append(1)\n",
    "    else:\n",
    "        for j in range(1,5):\n",
    "            diag_nums.append(diag_nums[-1] + (i-1))"
   ]
  },
  {
   "cell_type": "code",
   "execution_count": 49,
   "metadata": {},
   "outputs": [
    {
     "data": {
      "text/plain": [
       "[1, 3, 5, 7, 9, 13, 17, 21, 25]"
      ]
     },
     "execution_count": 49,
     "metadata": {},
     "output_type": "execute_result"
    }
   ],
   "source": [
    "diag_nums"
   ]
  },
  {
   "cell_type": "code",
   "execution_count": 62,
   "metadata": {},
   "outputs": [],
   "source": [
    "n = 1001\n",
    "diag_nums = []\n",
    "start = 1\n",
    "for i in range(1,n+1,2):\n",
    "    if i == 1:\n",
    "        diag_nums.append(1)\n",
    "    else:\n",
    "        for j in range(1,5):\n",
    "            diag_nums.append(diag_nums[-1] + (i-1))"
   ]
  },
  {
   "cell_type": "code",
   "execution_count": 63,
   "metadata": {},
   "outputs": [
    {
     "data": {
      "text/plain": [
       "669171001"
      ]
     },
     "execution_count": 63,
     "metadata": {},
     "output_type": "execute_result"
    }
   ],
   "source": [
    "sum(diag_nums)"
   ]
  },
  {
   "cell_type": "code",
   "execution_count": null,
   "metadata": {},
   "outputs": [],
   "source": []
  },
  {
   "cell_type": "markdown",
   "metadata": {},
   "source": [
    "### 29 Distinct powers"
   ]
  },
  {
   "cell_type": "markdown",
   "metadata": {},
   "source": [
    "Consider all integer combinations of a^b for 2 ≤ a ≤ 5 and 2 ≤ b ≤ 5:\n",
    "\n",
    "2^2=4, 2^3=8, 2^4=16, 2^5=32, etc\n",
    "\n",
    "\n",
    "If they are then placed in numerical order, with any repeats removed, we get the following sequence of 15 distinct terms:\n",
    "\n",
    "4, 8, 9, 16, 25, 27, 32, 64, 81, 125, 243, 256, 625, 1024, 3125\n",
    "\n",
    "How many distinct terms are in the sequence generated by ab for 2 ≤ a ≤ 100 and 2 ≤ b ≤ 100?"
   ]
  },
  {
   "cell_type": "code",
   "execution_count": 68,
   "metadata": {},
   "outputs": [
    {
     "data": {
      "text/plain": [
       "9183"
      ]
     },
     "execution_count": 68,
     "metadata": {},
     "output_type": "execute_result"
    }
   ],
   "source": [
    "# Brute force... could be done using prime factors\n",
    "len(set(a**b for a in range(2,101) for b in range(2,101)))"
   ]
  },
  {
   "cell_type": "code",
   "execution_count": null,
   "metadata": {},
   "outputs": [],
   "source": []
  },
  {
   "cell_type": "code",
   "execution_count": null,
   "metadata": {},
   "outputs": [],
   "source": []
  },
  {
   "cell_type": "markdown",
   "metadata": {},
   "source": [
    "### 30 Digit fifth powers"
   ]
  },
  {
   "cell_type": "markdown",
   "metadata": {},
   "source": [
    "Surprisingly there are only three numbers that can be written as the sum of fourth powers of their digits:\n",
    "\n",
    "1634 = 14 + 64 + 34 + 44\n",
    "\n",
    "8208 = 84 + 24 + 04 + 84\n",
    "\n",
    "9474 = 94 + 44 + 74 + 44\n",
    "\n",
    "As 1 = 14 is not a sum it is not included.\n",
    "\n",
    "The sum of these numbers is 1634 + 8208 + 9474 = 19316.\n",
    "\n",
    "Find the sum of all the numbers that can be written as the sum of fifth powers of their digits."
   ]
  },
  {
   "cell_type": "code",
   "execution_count": 87,
   "metadata": {},
   "outputs": [
    {
     "data": {
      "text/plain": [
       "999999"
      ]
     },
     "execution_count": 87,
     "metadata": {},
     "output_type": "execute_result"
    }
   ],
   "source": [
    "i = 1\n",
    "while int(i*str(9))< i*(9**5):\n",
    "    i+=1\n",
    "int(i*str(9))"
   ]
  },
  {
   "cell_type": "code",
   "execution_count": 88,
   "metadata": {},
   "outputs": [
    {
     "name": "stdout",
     "output_type": "stream",
     "text": [
      "Found! The number is 4150\n",
      "Found! The number is 4151\n",
      "Found! The number is 54748\n",
      "Found! The number is 92727\n",
      "Found! The number is 93084\n",
      "Found! The number is 194979\n"
     ]
    }
   ],
   "source": [
    "found = False\n",
    "num = 10\n",
    "lst_5powers = []\n",
    "while num < 999999:\n",
    "    total = 0\n",
    "    for digit in str(num):\n",
    "        total += int(digit)**5\n",
    "    if total == num:\n",
    "        print(f\"Found! The number is {num}\")\n",
    "        lst_5powers.append(num)\n",
    "        num+=1\n",
    "    else:\n",
    "        num+= 1"
   ]
  },
  {
   "cell_type": "code",
   "execution_count": 82,
   "metadata": {},
   "outputs": [
    {
     "data": {
      "text/plain": [
       "443839"
      ]
     },
     "execution_count": 82,
     "metadata": {},
     "output_type": "execute_result"
    }
   ],
   "source": [
    "sum(lst_5powers)"
   ]
  },
  {
   "cell_type": "code",
   "execution_count": null,
   "metadata": {},
   "outputs": [],
   "source": []
  }
 ],
 "metadata": {
  "kernelspec": {
   "display_name": "Python 3",
   "language": "python",
   "name": "python3"
  },
  "language_info": {
   "codemirror_mode": {
    "name": "ipython",
    "version": 3
   },
   "file_extension": ".py",
   "mimetype": "text/x-python",
   "name": "python",
   "nbconvert_exporter": "python",
   "pygments_lexer": "ipython3",
   "version": "3.7.6"
  }
 },
 "nbformat": 4,
 "nbformat_minor": 4
}
